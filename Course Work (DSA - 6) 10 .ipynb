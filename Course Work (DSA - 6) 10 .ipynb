{
 "cells": [
  {
   "cell_type": "code",
   "execution_count": null,
   "id": "5ed01d33-38fb-4815-a322-aac5b1d4f773",
   "metadata": {},
   "outputs": [],
   "source": [
    "### Given an integer array nums, return an array answer such that answer[i] is equal to the \n",
    "## product of all the elements of nums except nums[i]."
   ]
  },
  {
   "cell_type": "code",
   "execution_count": 2,
   "id": "ec24fde2-0b7d-4938-88da-19632d059c0e",
   "metadata": {},
   "outputs": [],
   "source": [
    "def product(nums):\n",
    "    n = len(nums)\n",
    "    answer = [1] * n\n",
    "    \n",
    "    # Calculate left products for each element\n",
    "    left = 1\n",
    "    for i in range(n):\n",
    "        answer[i] = left\n",
    "        left *= nums[i]\n",
    "    \n",
    "    # Calculate right products and update the answer array\n",
    "    right = 1\n",
    "    for i in range(n-1, -1, -1):\n",
    "        answer[i] *= right\n",
    "        right *= nums[i]\n",
    "    \n",
    "    return answer"
   ]
  },
  {
   "cell_type": "code",
   "execution_count": null,
   "id": "c2ab78bd-cc60-4596-ab67-c427b7958bfc",
   "metadata": {},
   "outputs": [],
   "source": [
    "## You are given two non-empty linked lists representing two non-negative integers.\n",
    "#The digits are stored in reverse order, and each of their nodes contains a single\n",
    "#digit. Add the two numbers and return the sum as a linked list."
   ]
  },
  {
   "cell_type": "code",
   "execution_count": 3,
   "id": "c552d68c-1ac4-44b9-baeb-fbf4bc8d9577",
   "metadata": {},
   "outputs": [],
   "source": [
    "class ListNode:\n",
    "    def __init__(self, val=0, next=None):\n",
    "        self.val = val\n",
    "        self.next = next\n",
    "\n",
    "def addTwoNumbers(l1, l2):\n",
    "    dummy = ListNode()  # Dummy node to simplify the result list construction\n",
    "    current = dummy  # Pointer to construct the new list\n",
    "    carry = 0  # To store carry value during addition\n",
    "\n",
    "    # Traverse both linked lists\n",
    "    while l1 or l2 or carry:\n",
    "        # Get values from current nodes, defaulting to 0 if we've reached the end of a list\n",
    "        val1 = l1.val if l1 else 0\n",
    "        val2 = l2.val if l2 else 0\n",
    "        \n",
    "        # Compute the sum of the two values and the carry\n",
    "        total = val1 + val2 + carry\n",
    "        \n",
    "        # Update the carry for the next step\n",
    "        carry = total // 10\n",
    "        \n",
    "        # Create a new node with the sum's unit digit (total % 10)\n",
    "        current.next = ListNode(total % 10)\n",
    "        current = current.next\n",
    "        \n",
    "        # Move to the next nodes in l1 and l2 if they exist\n",
    "        if l1: l1 = l1.next\n",
    "        if l2: l2 = l2.next\n",
    "\n",
    "    return dummy.next  # The real result list starts after the dummy node\n"
   ]
  },
  {
   "cell_type": "code",
   "execution_count": null,
   "id": "edd0f823-070a-4c5b-bb80-f634376da397",
   "metadata": {},
   "outputs": [],
   "source": [
    "#You are given an array of k linked-lists lists, each linked-list is sorted in ascending order.\n",
    "#Merge all the linked-lists into one sorted linked-list and return it."
   ]
  },
  {
   "cell_type": "code",
   "execution_count": 4,
   "id": "371cc074-e3be-44f2-9cd1-e4ede19178cd",
   "metadata": {},
   "outputs": [],
   "source": [
    "import heapq\n",
    "\n",
    "# Definition for singly-linked list.\n",
    "class ListNode:\n",
    "    def __init__(self, val=0, next=None):\n",
    "        self.val = val\n",
    "        self.next = next\n",
    "\n",
    "def mergeKLists(lists):\n",
    "    # Custom comparator function for the heap, since Python's heapq only supports min-heaps\n",
    "    # and compares elements directly\n",
    "    ListNode.__lt__ = lambda self, other: self.val < other.val\n",
    "\n",
    "    # Initialize a min-heap\n",
    "    heap = []\n",
    "    \n",
    "    # Step 1: Put the first node of each list into the heap\n",
    "    for l in lists:\n",
    "        if l:\n",
    "            heapq.heappush(heap, l)\n",
    "    \n",
    "    # Dummy node to help easily return the result\n",
    "    dummy = ListNode()\n",
    "    current = dummy\n",
    "    \n",
    "    # Step 2: Process the heap and build the result linked list\n",
    "    while heap:\n",
    "        # Get the smallest element from the heap\n",
    "        smallest_node = heapq.heappop(heap)\n",
    "        \n",
    "        # Add it to the result linked list\n",
    "        current.next = smallest_node\n",
    "        current = current.next\n",
    "        \n",
    "        # If there are more nodes in the list of the extracted node, add them to the heap\n",
    "        if smallest_node.next:\n",
    "            heapq.heappush(heap, smallest_node.next)\n",
    "    \n",
    "    # Return the merged linked list\n",
    "    return dummy.next\n"
   ]
  },
  {
   "cell_type": "code",
   "execution_count": null,
   "id": "360fce45-dcf5-4106-b5cf-d61d696f566b",
   "metadata": {},
   "outputs": [],
   "source": [
    "#Given the head of a sorted linked list, delete all duplicates such that each element\n",
    "# appears only once. Return the linked list sorted as well."
   ]
  },
  {
   "cell_type": "code",
   "execution_count": 5,
   "id": "20d3485e-420d-47a1-ad8c-34483f918e9c",
   "metadata": {},
   "outputs": [],
   "source": [
    "class ListNode:\n",
    "    def __init__(self, val=0, next=None):\n",
    "        self.val = val\n",
    "        self.next = next\n",
    "\n",
    "def deleteDuplicates(head):\n",
    "    # Initialize the current pointer to the head\n",
    "    current = head\n",
    "    \n",
    "    # Traverse the list\n",
    "    while current and current.next:\n",
    "        # If the current value is the same as the next value, skip the next node\n",
    "        if current.val == current.next.val:\n",
    "            current.next = current.next.next\n",
    "        else:\n",
    "            # Otherwise, just move to the next node\n",
    "            current = current.next\n",
    "    \n",
    "    return head"
   ]
  },
  {
   "cell_type": "code",
   "execution_count": null,
   "id": "6f200ed1-6c99-476e-8133-b760c5ed6061",
   "metadata": {},
   "outputs": [],
   "source": [
    "## You are given a string allowed consisting of distinct characters and an array of\n",
    "## strings words. A string is consistent if all characters in the string appear in the\n",
    "## string allowed.\n",
    "## Return the number of consistent strings in the array words."
   ]
  },
  {
   "cell_type": "code",
   "execution_count": 6,
   "id": "c5c7d44c-5eb1-4635-84a7-ce11a3547ca0",
   "metadata": {},
   "outputs": [],
   "source": [
    "def count(allowed, words):\n",
    "    # Convert allowed string to a set for O(1) lookup\n",
    "    allowed_set = set(allowed)\n",
    "    \n",
    "    # Initialize counter for consistent strings\n",
    "    consistent_count = 0\n",
    "    \n",
    "    # Iterate over each word in the words array\n",
    "    for word in words:\n",
    "        # Check if all characters in the word are in the allowed set\n",
    "        if all(char in allowed_set for char in word):\n",
    "            consistent_count += 1\n",
    "    \n",
    "    return consistent_count"
   ]
  },
  {
   "cell_type": "code",
   "execution_count": null,
   "id": "c3ec448c-81e5-427a-a4ba-13c2046bb01c",
   "metadata": {},
   "outputs": [],
   "source": []
  }
 ],
 "metadata": {
  "kernelspec": {
   "display_name": "Python 3 (ipykernel)",
   "language": "python",
   "name": "python3"
  },
  "language_info": {
   "codemirror_mode": {
    "name": "ipython",
    "version": 3
   },
   "file_extension": ".py",
   "mimetype": "text/x-python",
   "name": "python",
   "nbconvert_exporter": "python",
   "pygments_lexer": "ipython3",
   "version": "3.11.9"
  }
 },
 "nbformat": 4,
 "nbformat_minor": 5
}
