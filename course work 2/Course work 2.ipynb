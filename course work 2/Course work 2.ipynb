{
 "cells": [
  {
   "cell_type": "markdown",
   "id": "0ce891c6",
   "metadata": {},
   "source": [
    "# Task 5 : Pandas"
   ]
  },
  {
   "cell_type": "code",
   "execution_count": 1,
   "id": "0b336fb2",
   "metadata": {},
   "outputs": [],
   "source": [
    "import pandas as pd\n",
    "import numpy as np\n",
    "import re"
   ]
  },
  {
   "cell_type": "markdown",
   "id": "27aa9df1",
   "metadata": {},
   "source": [
    "####  1.) Load the dataset into a Pandas DataFrame and display the first 5 rows to get an idea of the data."
   ]
  },
  {
   "cell_type": "code",
   "execution_count": 2,
   "id": "b6cefee9",
   "metadata": {},
   "outputs": [],
   "source": [
    "df = pd.read_csv('Sport car price.csv')"
   ]
  },
  {
   "cell_type": "code",
   "execution_count": 3,
   "id": "4cf7ea43",
   "metadata": {},
   "outputs": [
    {
     "data": {
      "text/html": [
       "<div>\n",
       "<style scoped>\n",
       "    .dataframe tbody tr th:only-of-type {\n",
       "        vertical-align: middle;\n",
       "    }\n",
       "\n",
       "    .dataframe tbody tr th {\n",
       "        vertical-align: top;\n",
       "    }\n",
       "\n",
       "    .dataframe thead th {\n",
       "        text-align: right;\n",
       "    }\n",
       "</style>\n",
       "<table border=\"1\" class=\"dataframe\">\n",
       "  <thead>\n",
       "    <tr style=\"text-align: right;\">\n",
       "      <th></th>\n",
       "      <th>Car Make</th>\n",
       "      <th>Car Model</th>\n",
       "      <th>Year</th>\n",
       "      <th>Engine Size (L)</th>\n",
       "      <th>Horsepower</th>\n",
       "      <th>Torque (lb-ft)</th>\n",
       "      <th>0-60 MPH Time (seconds)</th>\n",
       "      <th>Price (in USD)</th>\n",
       "    </tr>\n",
       "  </thead>\n",
       "  <tbody>\n",
       "    <tr>\n",
       "      <th>0</th>\n",
       "      <td>Porsche</td>\n",
       "      <td>911</td>\n",
       "      <td>2022</td>\n",
       "      <td>3</td>\n",
       "      <td>379</td>\n",
       "      <td>331</td>\n",
       "      <td>4</td>\n",
       "      <td>101,200</td>\n",
       "    </tr>\n",
       "    <tr>\n",
       "      <th>1</th>\n",
       "      <td>Lamborghini</td>\n",
       "      <td>Huracan</td>\n",
       "      <td>2021</td>\n",
       "      <td>5.2</td>\n",
       "      <td>630</td>\n",
       "      <td>443</td>\n",
       "      <td>2.8</td>\n",
       "      <td>274,390</td>\n",
       "    </tr>\n",
       "    <tr>\n",
       "      <th>2</th>\n",
       "      <td>Ferrari</td>\n",
       "      <td>488 GTB</td>\n",
       "      <td>2022</td>\n",
       "      <td>3.9</td>\n",
       "      <td>661</td>\n",
       "      <td>561</td>\n",
       "      <td>3</td>\n",
       "      <td>333,750</td>\n",
       "    </tr>\n",
       "    <tr>\n",
       "      <th>3</th>\n",
       "      <td>Audi</td>\n",
       "      <td>R8</td>\n",
       "      <td>2022</td>\n",
       "      <td>5.2</td>\n",
       "      <td>562</td>\n",
       "      <td>406</td>\n",
       "      <td>3.2</td>\n",
       "      <td>142,700</td>\n",
       "    </tr>\n",
       "    <tr>\n",
       "      <th>4</th>\n",
       "      <td>McLaren</td>\n",
       "      <td>720S</td>\n",
       "      <td>2021</td>\n",
       "      <td>4</td>\n",
       "      <td>710</td>\n",
       "      <td>568</td>\n",
       "      <td>2.7</td>\n",
       "      <td>298,000</td>\n",
       "    </tr>\n",
       "  </tbody>\n",
       "</table>\n",
       "</div>"
      ],
      "text/plain": [
       "      Car Make Car Model  Year Engine Size (L) Horsepower Torque (lb-ft)  \\\n",
       "0      Porsche       911  2022               3        379            331   \n",
       "1  Lamborghini   Huracan  2021             5.2        630            443   \n",
       "2      Ferrari   488 GTB  2022             3.9        661            561   \n",
       "3         Audi        R8  2022             5.2        562            406   \n",
       "4      McLaren      720S  2021               4        710            568   \n",
       "\n",
       "  0-60 MPH Time (seconds) Price (in USD)  \n",
       "0                       4        101,200  \n",
       "1                     2.8        274,390  \n",
       "2                       3        333,750  \n",
       "3                     3.2        142,700  \n",
       "4                     2.7        298,000  "
      ]
     },
     "execution_count": 3,
     "metadata": {},
     "output_type": "execute_result"
    }
   ],
   "source": [
    "df.head(5)"
   ]
  },
  {
   "cell_type": "markdown",
   "id": "9243a495",
   "metadata": {},
   "source": [
    "#### 2.) Use Pandas to clean the dataset by removing any missing or duplicate values, and converting any non-numeric data to numeric data where appropr"
   ]
  },
  {
   "cell_type": "code",
   "execution_count": 4,
   "id": "aef9387e",
   "metadata": {},
   "outputs": [
    {
     "data": {
      "text/plain": [
       "Car Make                    0\n",
       "Car Model                   0\n",
       "Year                        0\n",
       "Engine Size (L)            10\n",
       "Horsepower                  0\n",
       "Torque (lb-ft)              3\n",
       "0-60 MPH Time (seconds)     0\n",
       "Price (in USD)              0\n",
       "dtype: int64"
      ]
     },
     "execution_count": 4,
     "metadata": {},
     "output_type": "execute_result"
    }
   ],
   "source": [
    "df.isnull().sum()"
   ]
  },
  {
   "cell_type": "code",
   "execution_count": 5,
   "id": "5d0ee02c",
   "metadata": {},
   "outputs": [],
   "source": [
    "df.dropna(inplace = True)"
   ]
  },
  {
   "cell_type": "code",
   "execution_count": 6,
   "id": "175a9983",
   "metadata": {},
   "outputs": [
    {
     "data": {
      "text/plain": [
       "Car Make                   0\n",
       "Car Model                  0\n",
       "Year                       0\n",
       "Engine Size (L)            0\n",
       "Horsepower                 0\n",
       "Torque (lb-ft)             0\n",
       "0-60 MPH Time (seconds)    0\n",
       "Price (in USD)             0\n",
       "dtype: int64"
      ]
     },
     "execution_count": 6,
     "metadata": {},
     "output_type": "execute_result"
    }
   ],
   "source": [
    "df.isnull().sum()"
   ]
  },
  {
   "cell_type": "code",
   "execution_count": 7,
   "id": "5ea2c74d",
   "metadata": {},
   "outputs": [
    {
     "data": {
      "text/plain": [
       "288"
      ]
     },
     "execution_count": 7,
     "metadata": {},
     "output_type": "execute_result"
    }
   ],
   "source": [
    "df.duplicated().sum()"
   ]
  },
  {
   "cell_type": "code",
   "execution_count": 8,
   "id": "3a67596a",
   "metadata": {},
   "outputs": [],
   "source": [
    "df.drop_duplicates(inplace = True)"
   ]
  },
  {
   "cell_type": "code",
   "execution_count": 9,
   "id": "4b06e736",
   "metadata": {},
   "outputs": [
    {
     "data": {
      "text/plain": [
       "0"
      ]
     },
     "execution_count": 9,
     "metadata": {},
     "output_type": "execute_result"
    }
   ],
   "source": [
    "df.duplicated().sum()"
   ]
  },
  {
   "cell_type": "code",
   "execution_count": 10,
   "id": "84ab8daf",
   "metadata": {},
   "outputs": [
    {
     "name": "stdout",
     "output_type": "stream",
     "text": [
      "<class 'pandas.core.frame.DataFrame'>\n",
      "Index: 707 entries, 0 to 1006\n",
      "Data columns (total 8 columns):\n",
      " #   Column                   Non-Null Count  Dtype \n",
      "---  ------                   --------------  ----- \n",
      " 0   Car Make                 707 non-null    object\n",
      " 1   Car Model                707 non-null    object\n",
      " 2   Year                     707 non-null    int64 \n",
      " 3   Engine Size (L)          707 non-null    object\n",
      " 4   Horsepower               707 non-null    object\n",
      " 5   Torque (lb-ft)           707 non-null    object\n",
      " 6   0-60 MPH Time (seconds)  707 non-null    object\n",
      " 7   Price (in USD)           707 non-null    object\n",
      "dtypes: int64(1), object(7)\n",
      "memory usage: 49.7+ KB\n"
     ]
    }
   ],
   "source": [
    "df.info()"
   ]
  },
  {
   "cell_type": "code",
   "execution_count": 11,
   "id": "d84984c4",
   "metadata": {},
   "outputs": [
    {
     "data": {
      "text/html": [
       "<div>\n",
       "<style scoped>\n",
       "    .dataframe tbody tr th:only-of-type {\n",
       "        vertical-align: middle;\n",
       "    }\n",
       "\n",
       "    .dataframe tbody tr th {\n",
       "        vertical-align: top;\n",
       "    }\n",
       "\n",
       "    .dataframe thead th {\n",
       "        text-align: right;\n",
       "    }\n",
       "</style>\n",
       "<table border=\"1\" class=\"dataframe\">\n",
       "  <thead>\n",
       "    <tr style=\"text-align: right;\">\n",
       "      <th></th>\n",
       "      <th>Car Make</th>\n",
       "      <th>Car Model</th>\n",
       "      <th>Year</th>\n",
       "      <th>Engine Size (L)</th>\n",
       "      <th>Horsepower</th>\n",
       "      <th>Torque (lb-ft)</th>\n",
       "      <th>0-60 MPH Time (seconds)</th>\n",
       "      <th>Price (in USD)</th>\n",
       "    </tr>\n",
       "  </thead>\n",
       "  <tbody>\n",
       "    <tr>\n",
       "      <th>0</th>\n",
       "      <td>Porsche</td>\n",
       "      <td>911</td>\n",
       "      <td>2022</td>\n",
       "      <td>3</td>\n",
       "      <td>379</td>\n",
       "      <td>331</td>\n",
       "      <td>4</td>\n",
       "      <td>101200</td>\n",
       "    </tr>\n",
       "    <tr>\n",
       "      <th>1</th>\n",
       "      <td>Lamborghini</td>\n",
       "      <td>Huracan</td>\n",
       "      <td>2021</td>\n",
       "      <td>5.2</td>\n",
       "      <td>630</td>\n",
       "      <td>443</td>\n",
       "      <td>2.8</td>\n",
       "      <td>274390</td>\n",
       "    </tr>\n",
       "    <tr>\n",
       "      <th>2</th>\n",
       "      <td>Ferrari</td>\n",
       "      <td>488 GTB</td>\n",
       "      <td>2022</td>\n",
       "      <td>3.9</td>\n",
       "      <td>661</td>\n",
       "      <td>561</td>\n",
       "      <td>3</td>\n",
       "      <td>333750</td>\n",
       "    </tr>\n",
       "    <tr>\n",
       "      <th>3</th>\n",
       "      <td>Audi</td>\n",
       "      <td>R8</td>\n",
       "      <td>2022</td>\n",
       "      <td>5.2</td>\n",
       "      <td>562</td>\n",
       "      <td>406</td>\n",
       "      <td>3.2</td>\n",
       "      <td>142700</td>\n",
       "    </tr>\n",
       "    <tr>\n",
       "      <th>4</th>\n",
       "      <td>McLaren</td>\n",
       "      <td>720S</td>\n",
       "      <td>2021</td>\n",
       "      <td>4</td>\n",
       "      <td>710</td>\n",
       "      <td>568</td>\n",
       "      <td>2.7</td>\n",
       "      <td>298000</td>\n",
       "    </tr>\n",
       "  </tbody>\n",
       "</table>\n",
       "</div>"
      ],
      "text/plain": [
       "      Car Make Car Model  Year Engine Size (L) Horsepower Torque (lb-ft)  \\\n",
       "0      Porsche       911  2022               3        379            331   \n",
       "1  Lamborghini   Huracan  2021             5.2        630            443   \n",
       "2      Ferrari   488 GTB  2022             3.9        661            561   \n",
       "3         Audi        R8  2022             5.2        562            406   \n",
       "4      McLaren      720S  2021               4        710            568   \n",
       "\n",
       "  0-60 MPH Time (seconds) Price (in USD)  \n",
       "0                       4         101200  \n",
       "1                     2.8         274390  \n",
       "2                       3         333750  \n",
       "3                     3.2         142700  \n",
       "4                     2.7         298000  "
      ]
     },
     "execution_count": 11,
     "metadata": {},
     "output_type": "execute_result"
    }
   ],
   "source": [
    "# Handle Price column \n",
    "# Remove the comma and convert to numeric\n",
    "df['Price (in USD)'] = df['Price (in USD)'].apply(lambda x : x.replace(',', ''))\n",
    "df.head()"
   ]
  },
  {
   "cell_type": "code",
   "execution_count": 12,
   "id": "f7b1c61d",
   "metadata": {},
   "outputs": [],
   "source": [
    "# Function to apply lambda to a column\n",
    "def apply_lambda(col, l):\n",
    "    df[col] = df[col].apply(l)\n",
    "\n",
    "# Function to replace redundant signs in values\n",
    "def replace_string(col, str1, str2):\n",
    "    df[col] = df[col].apply(lambda x: str(x).replace(str1, '').replace(str2, ''))\n",
    "\n",
    "# Apply replacements\n",
    "replace_string('Horsepower', ',', '+')\n",
    "replace_string('Torque (lb-ft)', '-', '+')\n",
    "replace_string('Torque (lb-ft)', ',', '')\n",
    "replace_string('0-60 MPH Time (seconds)', '<', '+')\n",
    "\n"
   ]
  },
  {
   "cell_type": "code",
   "execution_count": 13,
   "id": "5c2caef6",
   "metadata": {},
   "outputs": [
    {
     "data": {
      "text/html": [
       "<div>\n",
       "<style scoped>\n",
       "    .dataframe tbody tr th:only-of-type {\n",
       "        vertical-align: middle;\n",
       "    }\n",
       "\n",
       "    .dataframe tbody tr th {\n",
       "        vertical-align: top;\n",
       "    }\n",
       "\n",
       "    .dataframe thead th {\n",
       "        text-align: right;\n",
       "    }\n",
       "</style>\n",
       "<table border=\"1\" class=\"dataframe\">\n",
       "  <thead>\n",
       "    <tr style=\"text-align: right;\">\n",
       "      <th></th>\n",
       "      <th>Car Make</th>\n",
       "      <th>Car Model</th>\n",
       "      <th>Year</th>\n",
       "      <th>Engine Size (L)</th>\n",
       "      <th>Horsepower</th>\n",
       "      <th>Torque (lb-ft)</th>\n",
       "      <th>0-60 MPH Time (seconds)</th>\n",
       "      <th>Price (in USD)</th>\n",
       "    </tr>\n",
       "  </thead>\n",
       "  <tbody>\n",
       "    <tr>\n",
       "      <th>0</th>\n",
       "      <td>Porsche</td>\n",
       "      <td>911</td>\n",
       "      <td>2022</td>\n",
       "      <td>3</td>\n",
       "      <td>379</td>\n",
       "      <td>331</td>\n",
       "      <td>4</td>\n",
       "      <td>101200</td>\n",
       "    </tr>\n",
       "    <tr>\n",
       "      <th>1</th>\n",
       "      <td>Lamborghini</td>\n",
       "      <td>Huracan</td>\n",
       "      <td>2021</td>\n",
       "      <td>5.2</td>\n",
       "      <td>630</td>\n",
       "      <td>443</td>\n",
       "      <td>2.8</td>\n",
       "      <td>274390</td>\n",
       "    </tr>\n",
       "    <tr>\n",
       "      <th>2</th>\n",
       "      <td>Ferrari</td>\n",
       "      <td>488 GTB</td>\n",
       "      <td>2022</td>\n",
       "      <td>3.9</td>\n",
       "      <td>661</td>\n",
       "      <td>561</td>\n",
       "      <td>3</td>\n",
       "      <td>333750</td>\n",
       "    </tr>\n",
       "    <tr>\n",
       "      <th>3</th>\n",
       "      <td>Audi</td>\n",
       "      <td>R8</td>\n",
       "      <td>2022</td>\n",
       "      <td>5.2</td>\n",
       "      <td>562</td>\n",
       "      <td>406</td>\n",
       "      <td>3.2</td>\n",
       "      <td>142700</td>\n",
       "    </tr>\n",
       "    <tr>\n",
       "      <th>4</th>\n",
       "      <td>McLaren</td>\n",
       "      <td>720S</td>\n",
       "      <td>2021</td>\n",
       "      <td>4</td>\n",
       "      <td>710</td>\n",
       "      <td>568</td>\n",
       "      <td>2.7</td>\n",
       "      <td>298000</td>\n",
       "    </tr>\n",
       "  </tbody>\n",
       "</table>\n",
       "</div>"
      ],
      "text/plain": [
       "      Car Make Car Model  Year Engine Size (L) Horsepower Torque (lb-ft)  \\\n",
       "0      Porsche       911  2022               3        379            331   \n",
       "1  Lamborghini   Huracan  2021             5.2        630            443   \n",
       "2      Ferrari   488 GTB  2022             3.9        661            561   \n",
       "3         Audi        R8  2022             5.2        562            406   \n",
       "4      McLaren      720S  2021               4        710            568   \n",
       "\n",
       "  0-60 MPH Time (seconds) Price (in USD)  \n",
       "0                       4         101200  \n",
       "1                     2.8         274390  \n",
       "2                       3         333750  \n",
       "3                     3.2         142700  \n",
       "4                     2.7         298000  "
      ]
     },
     "execution_count": 13,
     "metadata": {},
     "output_type": "execute_result"
    }
   ],
   "source": [
    "# Remove the comma and convert to numeric\n",
    "df['Price (in USD)'] = df['Price (in USD)'].apply(lambda x : x.replace(',', ''))\n",
    "df.head()"
   ]
  },
  {
   "cell_type": "code",
   "execution_count": 14,
   "id": "1da27a39",
   "metadata": {},
   "outputs": [
    {
     "data": {
      "text/plain": [
       "array(['3', '5.2', '3.9', '4', '4.4', '6.2', '3.8', '8', '5', '3.5',\n",
       "       '4.7', '2', '2.9', '6', 'Electric', '6.5', '3.7', 'Electric Motor',\n",
       "       '2.5', '1.5 + Electric', '6.8', '8.4', '6.6', '7', '1.7', '3.3',\n",
       "       '-', '6.7', '1.8', 'Electric (tri-motor)', '5.5',\n",
       "       'Electric (93 kWh)', 'Electric (100 kWh)', 'Hybrid (4.0)', '4.6',\n",
       "       '3.6', '1.5', 'Hybrid', '5.7', '2.0 (Electric)', '4.0 (Hybrid)',\n",
       "       '0', '6.4', '6.3', '2.3'], dtype=object)"
      ]
     },
     "execution_count": 14,
     "metadata": {},
     "output_type": "execute_result"
    }
   ],
   "source": [
    "df['Engine Size (L)'].unique()"
   ]
  },
  {
   "cell_type": "code",
   "execution_count": 15,
   "id": "8886b0cd",
   "metadata": {},
   "outputs": [
    {
     "data": {
      "text/plain": [
       "array(['No', 'Yes'], dtype=object)"
      ]
     },
     "execution_count": 15,
     "metadata": {},
     "output_type": "execute_result"
    }
   ],
   "source": [
    "# Whether the car is electric\n",
    "df['Electric'] = df['Engine Size (L)'].copy()\n",
    "apply_lambda('Electric', lambda x : 'No' if 'Electric' not in str(x) else 'Yes')\n",
    "df['Electric'].unique()"
   ]
  },
  {
   "cell_type": "code",
   "execution_count": 16,
   "id": "ba12112b",
   "metadata": {},
   "outputs": [
    {
     "data": {
      "text/plain": [
       "array(['No', 'Yes'], dtype=object)"
      ]
     },
     "execution_count": 16,
     "metadata": {},
     "output_type": "execute_result"
    }
   ],
   "source": [
    "# Whether the car is hybrid\n",
    "df['Hybrid'] = df['Engine Size (L)'].copy()\n",
    "apply_lambda('Hybrid', lambda x : 'No' if 'Hybrid' not in str(x) else 'Yes')\n",
    "df['Hybrid'].unique()"
   ]
  },
  {
   "cell_type": "code",
   "execution_count": 17,
   "id": "a4c89df2",
   "metadata": {},
   "outputs": [
    {
     "data": {
      "text/plain": [
       "array(['3', '5.2', '3.9', '4', '4.4', '6.2', '3.8', '8', '5', '3.5',\n",
       "       '4.7', '2', '2.9', '6', 'None', '6.5', '3.7', '2.5', '1.5', '6.8',\n",
       "       '8.4', '6.6', '7', '1.7', '3.3', '', '6.7', '1.8', '5.5', '4.0',\n",
       "       '4.6', '3.6', '5.7', '2.0', '0', '6.4', '6.3', '2.3'], dtype=object)"
      ]
     },
     "execution_count": 17,
     "metadata": {},
     "output_type": "execute_result"
    }
   ],
   "source": [
    "# Remove the electric and hybrid values from Engine size\n",
    "apply_lambda('Engine Size (L)', lambda x : x if len(str(x)) == 1 else re.search('\\d{1}\\.\\d{1}', str(x)))\n",
    "apply_lambda('Engine Size (L)', lambda x : x.group() if type(x) == re.Match else x)\n",
    "replace_string('Engine Size (L)','-','')\n",
    "df['Engine Size (L)'].unique()"
   ]
  },
  {
   "cell_type": "code",
   "execution_count": 18,
   "id": "758017b8",
   "metadata": {},
   "outputs": [
    {
     "data": {
      "text/plain": [
       "array(['4', '2.8', '3', '3.2', '2.7', '3.1', '3.8', '3.5', '2.5', '2.4',\n",
       "       '5.4', '4.4', '4.8', '4.7', '3.6', '4.1', '1.85', '4.5', '3.3',\n",
       "       '3.9', '4.2', '3.4', '5.1', '4.3', '2.9', '5', '5.3', '4.9', '6.5',\n",
       "       '3.7', '1.95', '1.9', '2.6', '2.3', '4.6', '1.98', ' 1.9', '2.1',\n",
       "       '5.2', '1.8', '2.2', '6.4', '2'], dtype=object)"
      ]
     },
     "execution_count": 18,
     "metadata": {},
     "output_type": "execute_result"
    }
   ],
   "source": [
    "replace_string('Horsepower',',','+')\n",
    "replace_string('Torque (lb-ft)','-','+')\n",
    "replace_string('Torque (lb-ft)',',','')\n",
    "replace_string('0-60 MPH Time (seconds)','<','+')\n",
    "df['0-60 MPH Time (seconds)'].unique()"
   ]
  },
  {
   "cell_type": "code",
   "execution_count": 19,
   "id": "7e3dca2a",
   "metadata": {},
   "outputs": [
    {
     "data": {
      "text/html": [
       "<div>\n",
       "<style scoped>\n",
       "    .dataframe tbody tr th:only-of-type {\n",
       "        vertical-align: middle;\n",
       "    }\n",
       "\n",
       "    .dataframe tbody tr th {\n",
       "        vertical-align: top;\n",
       "    }\n",
       "\n",
       "    .dataframe thead th {\n",
       "        text-align: right;\n",
       "    }\n",
       "</style>\n",
       "<table border=\"1\" class=\"dataframe\">\n",
       "  <thead>\n",
       "    <tr style=\"text-align: right;\">\n",
       "      <th></th>\n",
       "      <th>Car Make</th>\n",
       "      <th>Car Model</th>\n",
       "      <th>Year</th>\n",
       "      <th>Engine Size (L)</th>\n",
       "      <th>Horsepower</th>\n",
       "      <th>Torque (lb-ft)</th>\n",
       "      <th>0-60 MPH Time (seconds)</th>\n",
       "      <th>Price (in USD)</th>\n",
       "      <th>Electric</th>\n",
       "      <th>Hybrid</th>\n",
       "    </tr>\n",
       "  </thead>\n",
       "  <tbody>\n",
       "    <tr>\n",
       "      <th>0</th>\n",
       "      <td>Porsche</td>\n",
       "      <td>911</td>\n",
       "      <td>2022</td>\n",
       "      <td>3.0</td>\n",
       "      <td>379</td>\n",
       "      <td>331.0</td>\n",
       "      <td>4.0</td>\n",
       "      <td>101200</td>\n",
       "      <td>No</td>\n",
       "      <td>No</td>\n",
       "    </tr>\n",
       "    <tr>\n",
       "      <th>1</th>\n",
       "      <td>Lamborghini</td>\n",
       "      <td>Huracan</td>\n",
       "      <td>2021</td>\n",
       "      <td>5.2</td>\n",
       "      <td>630</td>\n",
       "      <td>443.0</td>\n",
       "      <td>2.8</td>\n",
       "      <td>274390</td>\n",
       "      <td>No</td>\n",
       "      <td>No</td>\n",
       "    </tr>\n",
       "    <tr>\n",
       "      <th>2</th>\n",
       "      <td>Ferrari</td>\n",
       "      <td>488 GTB</td>\n",
       "      <td>2022</td>\n",
       "      <td>3.9</td>\n",
       "      <td>661</td>\n",
       "      <td>561.0</td>\n",
       "      <td>3.0</td>\n",
       "      <td>333750</td>\n",
       "      <td>No</td>\n",
       "      <td>No</td>\n",
       "    </tr>\n",
       "    <tr>\n",
       "      <th>3</th>\n",
       "      <td>Audi</td>\n",
       "      <td>R8</td>\n",
       "      <td>2022</td>\n",
       "      <td>5.2</td>\n",
       "      <td>562</td>\n",
       "      <td>406.0</td>\n",
       "      <td>3.2</td>\n",
       "      <td>142700</td>\n",
       "      <td>No</td>\n",
       "      <td>No</td>\n",
       "    </tr>\n",
       "    <tr>\n",
       "      <th>4</th>\n",
       "      <td>McLaren</td>\n",
       "      <td>720S</td>\n",
       "      <td>2021</td>\n",
       "      <td>4.0</td>\n",
       "      <td>710</td>\n",
       "      <td>568.0</td>\n",
       "      <td>2.7</td>\n",
       "      <td>298000</td>\n",
       "      <td>No</td>\n",
       "      <td>No</td>\n",
       "    </tr>\n",
       "  </tbody>\n",
       "</table>\n",
       "</div>"
      ],
      "text/plain": [
       "      Car Make Car Model  Year Engine Size (L) Horsepower Torque (lb-ft)  \\\n",
       "0      Porsche       911  2022             3.0        379          331.0   \n",
       "1  Lamborghini   Huracan  2021             5.2        630          443.0   \n",
       "2      Ferrari   488 GTB  2022             3.9        661          561.0   \n",
       "3         Audi        R8  2022             5.2        562          406.0   \n",
       "4      McLaren      720S  2021             4.0        710          568.0   \n",
       "\n",
       "  0-60 MPH Time (seconds) Price (in USD) Electric Hybrid  \n",
       "0                     4.0         101200       No     No  \n",
       "1                     2.8         274390       No     No  \n",
       "2                     3.0         333750       No     No  \n",
       "3                     3.2         142700       No     No  \n",
       "4                     2.7         298000       No     No  "
      ]
     },
     "execution_count": 19,
     "metadata": {},
     "output_type": "execute_result"
    }
   ],
   "source": [
    "df.iloc[:,3:8] = df.iloc[:,3:8].apply(pd.to_numeric, errors = 'coerce')\n",
    "df.head()"
   ]
  },
  {
   "cell_type": "code",
   "execution_count": 20,
   "id": "849a95a1",
   "metadata": {},
   "outputs": [
    {
     "data": {
      "text/plain": [
       "38"
      ]
     },
     "execution_count": 20,
     "metadata": {},
     "output_type": "execute_result"
    }
   ],
   "source": [
    "df['Engine Size (L)'].isna().sum()"
   ]
  },
  {
   "cell_type": "code",
   "execution_count": 21,
   "id": "8dec6d9f",
   "metadata": {},
   "outputs": [
    {
     "name": "stdout",
     "output_type": "stream",
     "text": [
      "4.41913303437967\n"
     ]
    }
   ],
   "source": [
    "mean = df['Engine Size (L)'].mean()\n",
    "print(mean)"
   ]
  },
  {
   "cell_type": "code",
   "execution_count": 22,
   "id": "487db0fa",
   "metadata": {},
   "outputs": [],
   "source": [
    "df['Engine Size (L)'] = df['Engine Size (L)'].fillna(mean)"
   ]
  },
  {
   "cell_type": "code",
   "execution_count": 23,
   "id": "41abfef5",
   "metadata": {},
   "outputs": [
    {
     "data": {
      "text/plain": [
       "0"
      ]
     },
     "execution_count": 23,
     "metadata": {},
     "output_type": "execute_result"
    }
   ],
   "source": [
    "df['Engine Size (L)'].isna().sum()"
   ]
  },
  {
   "cell_type": "code",
   "execution_count": 24,
   "id": "5a645849",
   "metadata": {},
   "outputs": [
    {
     "data": {
      "text/plain": [
       "1"
      ]
     },
     "execution_count": 24,
     "metadata": {},
     "output_type": "execute_result"
    }
   ],
   "source": [
    "df['Torque (lb-ft)'].isna().sum() "
   ]
  },
  {
   "cell_type": "code",
   "execution_count": 25,
   "id": "e1dcbd75",
   "metadata": {},
   "outputs": [
    {
     "name": "stdout",
     "output_type": "stream",
     "text": [
      "564.4036827195467\n"
     ]
    }
   ],
   "source": [
    "mean = df['Torque (lb-ft)'].mean()\n",
    "print(mean)"
   ]
  },
  {
   "cell_type": "code",
   "execution_count": 26,
   "id": "bb52e62d",
   "metadata": {},
   "outputs": [],
   "source": [
    "df['Torque (lb-ft)'] = df['Torque (lb-ft)'].fillna(mean)"
   ]
  },
  {
   "cell_type": "code",
   "execution_count": 27,
   "id": "819915a0",
   "metadata": {},
   "outputs": [
    {
     "data": {
      "text/plain": [
       "0"
      ]
     },
     "execution_count": 27,
     "metadata": {},
     "output_type": "execute_result"
    }
   ],
   "source": [
    "df['Torque (lb-ft)'].isna().sum() "
   ]
  },
  {
   "cell_type": "code",
   "execution_count": 28,
   "id": "28d8d63b",
   "metadata": {},
   "outputs": [],
   "source": [
    "df['Engine Size (L)'] = df['Engine Size (L)'].astype(int)\n",
    "df['Horsepower'] = df['Horsepower'].astype(int)\n",
    "df['Torque (lb-ft)'] = df['Torque (lb-ft)'].astype(int)\n",
    "df['0-60 MPH Time (seconds)'] = df['0-60 MPH Time (seconds)'].astype(int)\n",
    "df['Price (in USD)'] = df['Price (in USD)'].astype(int)\n",
    "\n"
   ]
  },
  {
   "cell_type": "code",
   "execution_count": 29,
   "id": "55292dbc",
   "metadata": {},
   "outputs": [
    {
     "name": "stdout",
     "output_type": "stream",
     "text": [
      "<class 'pandas.core.frame.DataFrame'>\n",
      "Index: 707 entries, 0 to 1006\n",
      "Data columns (total 10 columns):\n",
      " #   Column                   Non-Null Count  Dtype \n",
      "---  ------                   --------------  ----- \n",
      " 0   Car Make                 707 non-null    object\n",
      " 1   Car Model                707 non-null    object\n",
      " 2   Year                     707 non-null    int64 \n",
      " 3   Engine Size (L)          707 non-null    int32 \n",
      " 4   Horsepower               707 non-null    int32 \n",
      " 5   Torque (lb-ft)           707 non-null    int32 \n",
      " 6   0-60 MPH Time (seconds)  707 non-null    int32 \n",
      " 7   Price (in USD)           707 non-null    int32 \n",
      " 8   Electric                 707 non-null    object\n",
      " 9   Hybrid                   707 non-null    object\n",
      "dtypes: int32(5), int64(1), object(4)\n",
      "memory usage: 46.9+ KB\n"
     ]
    }
   ],
   "source": [
    "df.info()"
   ]
  },
  {
   "cell_type": "markdown",
   "id": "7641ed14",
   "metadata": {},
   "source": [
    "#### 3.) Use Pandas to explore the dataset by computing summary statistics for each column, such as mean, median, mode, standard deviation, and range."
   ]
  },
  {
   "cell_type": "code",
   "execution_count": 30,
   "id": "4aa3f115",
   "metadata": {},
   "outputs": [
    {
     "data": {
      "text/html": [
       "<div>\n",
       "<style scoped>\n",
       "    .dataframe tbody tr th:only-of-type {\n",
       "        vertical-align: middle;\n",
       "    }\n",
       "\n",
       "    .dataframe tbody tr th {\n",
       "        vertical-align: top;\n",
       "    }\n",
       "\n",
       "    .dataframe thead th {\n",
       "        text-align: right;\n",
       "    }\n",
       "</style>\n",
       "<table border=\"1\" class=\"dataframe\">\n",
       "  <thead>\n",
       "    <tr style=\"text-align: right;\">\n",
       "      <th></th>\n",
       "      <th>Year</th>\n",
       "      <th>Engine Size (L)</th>\n",
       "      <th>Horsepower</th>\n",
       "      <th>Torque (lb-ft)</th>\n",
       "      <th>0-60 MPH Time (seconds)</th>\n",
       "      <th>Price (in USD)</th>\n",
       "    </tr>\n",
       "  </thead>\n",
       "  <tbody>\n",
       "    <tr>\n",
       "      <th>count</th>\n",
       "      <td>707.000000</td>\n",
       "      <td>707.000000</td>\n",
       "      <td>707.000000</td>\n",
       "      <td>707.000000</td>\n",
       "      <td>707.000000</td>\n",
       "      <td>7.070000e+02</td>\n",
       "    </tr>\n",
       "    <tr>\n",
       "      <th>mean</th>\n",
       "      <td>2021.151344</td>\n",
       "      <td>4.130127</td>\n",
       "      <td>631.937765</td>\n",
       "      <td>564.403112</td>\n",
       "      <td>3.063649</td>\n",
       "      <td>3.808800e+05</td>\n",
       "    </tr>\n",
       "    <tr>\n",
       "      <th>std</th>\n",
       "      <td>2.347564</td>\n",
       "      <td>1.477896</td>\n",
       "      <td>463.852810</td>\n",
       "      <td>502.710035</td>\n",
       "      <td>0.887540</td>\n",
       "      <td>7.652793e+05</td>\n",
       "    </tr>\n",
       "    <tr>\n",
       "      <th>min</th>\n",
       "      <td>1965.000000</td>\n",
       "      <td>0.000000</td>\n",
       "      <td>181.000000</td>\n",
       "      <td>151.000000</td>\n",
       "      <td>1.000000</td>\n",
       "      <td>2.500000e+04</td>\n",
       "    </tr>\n",
       "    <tr>\n",
       "      <th>25%</th>\n",
       "      <td>2021.000000</td>\n",
       "      <td>3.000000</td>\n",
       "      <td>454.000000</td>\n",
       "      <td>398.000000</td>\n",
       "      <td>3.000000</td>\n",
       "      <td>7.000000e+04</td>\n",
       "    </tr>\n",
       "    <tr>\n",
       "      <th>50%</th>\n",
       "      <td>2021.000000</td>\n",
       "      <td>4.000000</td>\n",
       "      <td>591.000000</td>\n",
       "      <td>505.000000</td>\n",
       "      <td>3.000000</td>\n",
       "      <td>1.324000e+05</td>\n",
       "    </tr>\n",
       "    <tr>\n",
       "      <th>75%</th>\n",
       "      <td>2022.000000</td>\n",
       "      <td>5.000000</td>\n",
       "      <td>710.000000</td>\n",
       "      <td>626.500000</td>\n",
       "      <td>4.000000</td>\n",
       "      <td>2.250000e+05</td>\n",
       "    </tr>\n",
       "    <tr>\n",
       "      <th>max</th>\n",
       "      <td>2023.000000</td>\n",
       "      <td>8.000000</td>\n",
       "      <td>10000.000000</td>\n",
       "      <td>10000.000000</td>\n",
       "      <td>6.000000</td>\n",
       "      <td>5.200000e+06</td>\n",
       "    </tr>\n",
       "  </tbody>\n",
       "</table>\n",
       "</div>"
      ],
      "text/plain": [
       "              Year  Engine Size (L)    Horsepower  Torque (lb-ft)  \\\n",
       "count   707.000000       707.000000    707.000000      707.000000   \n",
       "mean   2021.151344         4.130127    631.937765      564.403112   \n",
       "std       2.347564         1.477896    463.852810      502.710035   \n",
       "min    1965.000000         0.000000    181.000000      151.000000   \n",
       "25%    2021.000000         3.000000    454.000000      398.000000   \n",
       "50%    2021.000000         4.000000    591.000000      505.000000   \n",
       "75%    2022.000000         5.000000    710.000000      626.500000   \n",
       "max    2023.000000         8.000000  10000.000000    10000.000000   \n",
       "\n",
       "       0-60 MPH Time (seconds)  Price (in USD)  \n",
       "count               707.000000    7.070000e+02  \n",
       "mean                  3.063649    3.808800e+05  \n",
       "std                   0.887540    7.652793e+05  \n",
       "min                   1.000000    2.500000e+04  \n",
       "25%                   3.000000    7.000000e+04  \n",
       "50%                   3.000000    1.324000e+05  \n",
       "75%                   4.000000    2.250000e+05  \n",
       "max                   6.000000    5.200000e+06  "
      ]
     },
     "execution_count": 30,
     "metadata": {},
     "output_type": "execute_result"
    }
   ],
   "source": [
    "df.describe()"
   ]
  },
  {
   "cell_type": "markdown",
   "id": "626a6427",
   "metadata": {},
   "source": [
    "#### 4.) Use Pandas to group the dataset by car make and compute the average price for each make."
   ]
  },
  {
   "cell_type": "code",
   "execution_count": 31,
   "id": "3bd52322",
   "metadata": {},
   "outputs": [
    {
     "name": "stdout",
     "output_type": "stream",
     "text": [
      "Car Make\n",
      "Acura            1.581650e+05\n",
      "Alfa Romeo       7.459967e+04\n",
      "Alpine           7.150000e+04\n",
      "Ariel            7.500000e+04\n",
      "Aston Martin     2.224352e+05\n",
      "Audi             9.135337e+04\n",
      "BMW              8.064097e+04\n",
      "Bentley          2.161760e+05\n",
      "Bugatti          3.386333e+06\n",
      "Chevrolet        5.465270e+04\n",
      "Dodge            7.166649e+04\n",
      "Ferrari          3.000600e+05\n",
      "Ford             2.328552e+05\n",
      "Jaguar           7.643810e+04\n",
      "Kia              5.220000e+04\n",
      "Koenigsegg       2.900000e+06\n",
      "Lamborghini      4.732617e+05\n",
      "Lexus            9.383333e+04\n",
      "Lotus            6.072589e+05\n",
      "Maserati         1.464203e+05\n",
      "Mazda            2.683000e+04\n",
      "McLaren          3.216477e+05\n",
      "Mercedes-AMG     1.538000e+05\n",
      "Mercedes-Benz    1.615324e+05\n",
      "Nissan           4.681161e+04\n",
      "Pagani           2.809091e+06\n",
      "Pininfarina      2.500000e+06\n",
      "Polestar         1.550000e+05\n",
      "Porsche          1.350485e+05\n",
      "Rimac            2.400000e+06\n",
      "Rolls-Royce      3.335944e+05\n",
      "Shelby           1.000000e+06\n",
      "Subaru           3.817000e+04\n",
      "TVR              1.405000e+05\n",
      "Tesla            1.632607e+05\n",
      "Toyota           4.306000e+04\n",
      "Ultima           2.200000e+05\n",
      "W Motors         2.216667e+06\n",
      "Name: Price (in USD), dtype: float64\n"
     ]
    }
   ],
   "source": [
    "# Group by 'Car Make' and calculate the average price\n",
    "average_price = df.groupby('Car Make')['Price (in USD)'].mean()\n",
    "\n",
    "# Print the result\n",
    "print(average_price)\n"
   ]
  },
  {
   "cell_type": "markdown",
   "id": "9901b324",
   "metadata": {},
   "source": [
    "#### 5.) Use Pandas to group the dataset by year and compute the average horsepower for each year.\n"
   ]
  },
  {
   "cell_type": "code",
   "execution_count": 32,
   "id": "0d06d060",
   "metadata": {},
   "outputs": [
    {
     "name": "stdout",
     "output_type": "stream",
     "text": [
      "Year\n",
      "1965    435.000000\n",
      "2014    622.000000\n",
      "2015    660.400000\n",
      "2017    645.000000\n",
      "2019    615.333333\n",
      "2020    462.083333\n",
      "2021    628.527778\n",
      "2022    651.601504\n",
      "2023    675.000000\n",
      "Name: Horsepower, dtype: float64\n"
     ]
    }
   ],
   "source": [
    "avg_horsepower = df.groupby('Year')['Horsepower'].mean()\n",
    "print(avg_horsepower)"
   ]
  },
  {
   "cell_type": "markdown",
   "id": "ba739f5d",
   "metadata": {},
   "source": [
    "#### 6.) Use Pandas to create a scatter plot of price versus horsepower, and add a linear regression line to the plot."
   ]
  },
  {
   "cell_type": "code",
   "execution_count": 33,
   "id": "88f287a5",
   "metadata": {},
   "outputs": [],
   "source": [
    "import matplotlib.pyplot as plt\n",
    "import seaborn as sns"
   ]
  },
  {
   "cell_type": "code",
   "execution_count": 34,
   "id": "ad3225f3",
   "metadata": {},
   "outputs": [
    {
     "data": {
      "image/png": "[encoded data removed]",
      "text/plain": [
       "<Figure size 1000x600 with 1 Axes>"
      ]
     },
     "metadata": {},
     "output_type": "display_data"
    }
   ],
   "source": [
    "plt.figure(figsize=(10, 6))\n",
    "sns.scatterplot(x='Horsepower', y='Price (in USD)', data=df, color='blue')\n",
    "plt.title('Scatter Plot of Price vs. Horsepower')\n",
    "plt.xlabel('Horsepower')\n",
    "plt.ylabel('Price (in USD)')\n",
    "plt.show()\n"
   ]
  },
  {
   "cell_type": "markdown",
   "id": "ab9581f7",
   "metadata": {},
   "source": [
    "#### 7.) Use Pandas to create a histogram of the 0-60 MPH times in the dataset, with bins of size 0.5 seconds."
   ]
  },
  {
   "cell_type": "code",
   "execution_count": 35,
   "id": "76ae9575",
   "metadata": {},
   "outputs": [
    {
     "data": {
      "image/png": "[encoded data removed]",
      "text/plain": [
       "<Figure size 1000x600 with 1 Axes>"
      ]
     },
     "metadata": {},
     "output_type": "display_data"
    }
   ],
   "source": [
    "plt.figure(figsize=(10, 6))\n",
    "df['0-60 MPH Time (seconds)'].plot.hist(bins=range(0, 60), edgecolor='black')\n",
    "\n",
    "# Add titles and labels\n",
    "plt.title('Histogram of 0-60 MPH Times')\n",
    "plt.xlabel('0-60 MPH Time (seconds)')\n",
    "plt.ylabel('Frequency')\n",
    "\n",
    "# Show the plot\n",
    "plt.show()"
   ]
  },
  {
   "cell_type": "markdown",
   "id": "b73f718c",
   "metadata": {},
   "source": [
    "#### 8.) Use Pandas to filter the dataset to only include cars with a price greater than 500,000, and then sort the resulting dataset by horsepower in descending order."
   ]
  },
  {
   "cell_type": "code",
   "execution_count": 36,
   "id": "ac138cde",
   "metadata": {},
   "outputs": [
    {
     "name": "stdout",
     "output_type": "stream",
     "text": [
      "         Car Make  Car Model  Year  Engine Size (L)  Horsepower  \\\n",
      "877         Lotus      Evija  2021                4        2000   \n",
      "420         Lotus      Evija  2022                4        1973   \n",
      "987         Lotus      Evija  2022                4        1973   \n",
      "523         Lotus      Evija  2022                4        1973   \n",
      "1003        Lotus      Evija  2021                4        1972   \n",
      "...           ...        ...   ...              ...         ...   \n",
      "318        Pagani     Huayra  2021                6         730   \n",
      "194   Lamborghini  Aventador  2021                6         730   \n",
      "166        Pagani     Huayra  2020                6         720   \n",
      "24         Pagani     Huayra  2021                6         720   \n",
      "170        Shelby      Cobra  1965                7         435   \n",
      "\n",
      "      Torque (lb-ft)  0-60 MPH Time (seconds)  Price (in USD) Electric Hybrid  \n",
      "877             1254                        2         2800000      Yes     No  \n",
      "420             1254                        2         2750000      Yes     No  \n",
      "987             1254                        2         2000000      Yes     No  \n",
      "523             1254                        2         2600000      Yes     No  \n",
      "1003            1254                        2         2000000      Yes     No  \n",
      "...              ...                      ...             ...      ...    ...  \n",
      "318              738                        3         2600000       No     No  \n",
      "194              509                        2          517700       No     No  \n",
      "166              738                        3         2700000       No     No  \n",
      "24               737                        2         2800000       No     No  \n",
      "170              440                        4         1000000       No     No  \n",
      "\n",
      "[80 rows x 10 columns]\n"
     ]
    }
   ],
   "source": [
    "filtered_df = df[df['Price (in USD)'] > 500000]\n",
    "sorted_df = filtered_df.sort_values(by='Horsepower', ascending=False)\n",
    "print(sorted_df)"
   ]
  },
  {
   "cell_type": "markdown",
   "id": "88dca11b",
   "metadata": {},
   "source": [
    "#### 9.) Use Pandas to export the cleaned and transformed dataset to a new CSV file."
   ]
  },
  {
   "cell_type": "code",
   "execution_count": 37,
   "id": "c01c98c8",
   "metadata": {},
   "outputs": [],
   "source": [
    "sorted_df = filtered_df.sort_values(by='Horsepower', ascending=False)\n",
    "sorted_df.to_csv('cleaned.csv', index=False)"
   ]
  },
  {
   "cell_type": "code",
   "execution_count": null,
   "id": "9be689f5",
   "metadata": {},
   "outputs": [],
   "source": []
  },
  {
   "cell_type": "markdown",
   "id": "1a18d45f",
   "metadata": {},
   "source": [
    "# Task 1.  LISTS"
   ]
  },
  {
   "cell_type": "markdown",
   "id": "3ce52260",
   "metadata": {},
   "source": [
    "#### 1.)  Write a Python program to multiply all the items in a list."
   ]
  },
  {
   "cell_type": "code",
   "execution_count": 338,
   "id": "e5816b58",
   "metadata": {},
   "outputs": [
    {
     "name": "stdout",
     "output_type": "stream",
     "text": [
      "The product of all items in the list is: 25\n"
     ]
    }
   ],
   "source": [
    "def multiply(x):\n",
    "    product = 1\n",
    "    for i in x:\n",
    "        product = i*i\n",
    "    return product\n",
    "\n",
    "# Example usage\n",
    "y = [1, 2, 3, 4, 5]\n",
    "res = multiply(y)\n",
    "print(f\"The product of all items in the list is: {res}\")\n"
   ]
  },
  {
   "cell_type": "markdown",
   "id": "bd46e097",
   "metadata": {},
   "source": [
    "#### 2.) Write a Python program to get the largest number from a list."
   ]
  },
  {
   "cell_type": "code",
   "execution_count": 344,
   "id": "56eb877b",
   "metadata": {},
   "outputs": [
    {
     "name": "stdout",
     "output_type": "stream",
     "text": [
      "The largest number in the list is: 99\n"
     ]
    }
   ],
   "source": [
    "def largest(x):\n",
    "    largest = x[0]\n",
    "    for i in x[1:]:\n",
    "        if i > largest:\n",
    "            largest = i\n",
    "    return largest\n",
    "\n",
    "# Example usage\n",
    "i = [10, 20, 4, 45, 99]\n",
    "largest_number = largest(i)\n",
    "print(f\"The largest number in the list is: {largest_number}\")\n"
   ]
  },
  {
   "cell_type": "markdown",
   "id": "b2ad67df",
   "metadata": {},
   "source": [
    "#### 3.)  Write a Python program to get the smallest number from a list."
   ]
  },
  {
   "cell_type": "code",
   "execution_count": 346,
   "id": "c47b991f",
   "metadata": {},
   "outputs": [
    {
     "name": "stdout",
     "output_type": "stream",
     "text": [
      "The smallest_number in the list is: 4\n"
     ]
    }
   ],
   "source": [
    "def smallest(x):\n",
    "    smallest = x[0]\n",
    "    for i in x[1:]:\n",
    "        if i < smallest:\n",
    "            smallest = i\n",
    "    return smallest\n",
    "\n",
    "# Example usage\n",
    "i = [10, 20, 4, 45, 99]\n",
    "smallest_number = smallest(i)\n",
    "print(f\"The smallest_number in the list is: {smallest_number}\")"
   ]
  },
  {
   "cell_type": "markdown",
   "id": "9e786473",
   "metadata": {},
   "source": [
    "#### 4.) Write a Python program to get a list, sorted in increasing order by the last element in each tuple from a given list of non-empty tuples. \n",
    "## (Can't Understand question)"
   ]
  },
  {
   "cell_type": "markdown",
   "id": "dfe10173",
   "metadata": {},
   "source": [
    "#### 5.) Write a Python program to remove duplicates from a list."
   ]
  },
  {
   "cell_type": "code",
   "execution_count": 350,
   "id": "7f89fee3",
   "metadata": {},
   "outputs": [
    {
     "name": "stdout",
     "output_type": "stream",
     "text": [
      "List after removing duplicates: [1, 2, 3, 4, 5, 6]\n"
     ]
    }
   ],
   "source": [
    "def remove_duplicates(x):\n",
    "    unique_list = []\n",
    "    for i in x:\n",
    "        if i not in unique_list:\n",
    "            unique_list.append(i)  \n",
    "    return unique_list\n",
    "\n",
    "# Example usage\n",
    "y = [1, 2, 3, 2, 4, 5, 1, 6]\n",
    "unique_list = remove_duplicates(y)\n",
    "print(f\"List after removing duplicates: {unique_list}\")\n"
   ]
  },
  {
   "cell_type": "markdown",
   "id": "28218618",
   "metadata": {},
   "source": [
    "#### 6.) Write a Python program to check if a list is empty or not."
   ]
  },
  {
   "cell_type": "code",
   "execution_count": 351,
   "id": "242b0e2a",
   "metadata": {},
   "outputs": [
    {
     "name": "stdout",
     "output_type": "stream",
     "text": [
      "The list is empty.\n"
     ]
    }
   ],
   "source": [
    "def is_empty(x):\n",
    "    return len(x) == 0\n",
    "\n",
    "# Example usage\n",
    "y = []\n",
    "\n",
    "if is_empty(y):\n",
    "    print(\"The list is empty.\")\n",
    "else:\n",
    "    print(\"The list is not empty.\")\n"
   ]
  },
  {
   "cell_type": "markdown",
   "id": "4df50d40",
   "metadata": {},
   "source": [
    "#### 7.)  Write a Python program to count the lowercase letters in a given list of word"
   ]
  },
  {
   "cell_type": "code",
   "execution_count": 355,
   "id": "2dee8208",
   "metadata": {},
   "outputs": [
    {
     "name": "stdout",
     "output_type": "stream",
     "text": [
      "Total number of lowercase letters: 4\n"
     ]
    }
   ],
   "source": [
    "def count(x):\n",
    "    count = 0\n",
    "    for i in x:\n",
    "        for char in x:\n",
    "            if char.islower():\n",
    "                count += 1\n",
    "    return count\n",
    "\n",
    "# Example usage\n",
    "words = ['MY','name', 'IS','HARSH']\n",
    "lowercase_count = count(words)\n",
    "print(f\"Total number of lowercase letters: {lowercase_count}\")\n"
   ]
  },
  {
   "cell_type": "markdown",
   "id": "f608f17f",
   "metadata": {},
   "source": [
    "#### 8.) Write a Python program to extract specified number of elements from a given list, which follows each other continuously. Original list:  [1, 1, 3, 4, 4, 5, 6, 7]"
   ]
  },
  {
   "cell_type": "markdown",
   "id": "7e4625a5",
   "metadata": {},
   "source": [
    "#### 9.)  Write a Python program to find the largest odd number in a given list of integers."
   ]
  },
  {
   "cell_type": "code",
   "execution_count": 365,
   "id": "959c8d1a",
   "metadata": {},
   "outputs": [
    {
     "name": "stdout",
     "output_type": "stream",
     "text": [
      "Largest odd number in  9\n"
     ]
    },
    {
     "name": "stderr",
     "output_type": "stream",
     "text": [
      "<>:6: SyntaxWarning: \"is\" with a literal. Did you mean \"==\"?\n",
      "<>:6: SyntaxWarning: \"is\" with a literal. Did you mean \"==\"?\n",
      "C:\\Users\\Harsh\\AppData\\Local\\Temp\\ipykernel_39540\\519766318.py:6: SyntaxWarning: \"is\" with a literal. Did you mean \"==\"?\n",
      "  if num is 0 or i > num:\n"
     ]
    }
   ],
   "source": [
    "def largest_odd_number(x):\n",
    "    num = 0\n",
    "    \n",
    "    for i in x:\n",
    "        if i % 2 != 0:  # Check if the number is odd\n",
    "            if num is 0 or i > num:\n",
    "                num = i\n",
    "   \n",
    "    return num\n",
    "\n",
    "# Example usage\n",
    "sample_data1 = [0, 9, 2, 4, 5, 6]\n",
    "print(f\"Largest odd number in  {largest_odd_number(sample_data1)}\")"
   ]
  },
  {
   "cell_type": "markdown",
   "id": "1983eb8e",
   "metadata": {},
   "source": [
    "# Task 2. TUPLES"
   ]
  },
  {
   "cell_type": "markdown",
   "id": "f85e7e1a",
   "metadata": {},
   "source": [
    "#### 1.) Write a Python program to create a tuple with different data types.\n"
   ]
  },
  {
   "cell_type": "code",
   "execution_count": 40,
   "id": "a04bf31a",
   "metadata": {},
   "outputs": [
    {
     "name": "stdout",
     "output_type": "stream",
     "text": [
      "(1, 'Hello', 3.14, True, 'Sabudh Foundation')\n",
      "<class 'tuple'>\n"
     ]
    }
   ],
   "source": [
    "tuple = (1, \"Hello\", 3.14, True,'Sabudh Foundation')\n",
    "print(tuple)\n",
    "print(type(tuple))\n"
   ]
  },
  {
   "cell_type": "markdown",
   "id": "fcb2aa7d",
   "metadata": {},
   "source": [
    "#### 2.) Create a Tuple of Numbers and Print One Item"
   ]
  },
  {
   "cell_type": "code",
   "execution_count": 41,
   "id": "092b9d28",
   "metadata": {},
   "outputs": [
    {
     "name": "stdout",
     "output_type": "stream",
     "text": [
      "Hello\n",
      "<class 'tuple'>\n"
     ]
    }
   ],
   "source": [
    "tuple = (1, \"Hello\", 3.14, True,'Sabudh Foundation')\n",
    "print(tuple[1])\n",
    "print(type(tuple))"
   ]
  },
  {
   "cell_type": "markdown",
   "id": "1ded607a",
   "metadata": {},
   "source": [
    "#### 3.) Add an Item to a Tuple"
   ]
  },
  {
   "cell_type": "code",
   "execution_count": 42,
   "id": "e7f13e2b",
   "metadata": {},
   "outputs": [
    {
     "name": "stdout",
     "output_type": "stream",
     "text": [
      "(1, 'Hello', 3.14, True, 'Sabudh Foundation', 4)\n",
      "<class 'tuple'>\n"
     ]
    }
   ],
   "source": [
    "tuple = (1, \"Hello\", 3.14, True,'Sabudh Foundation')\n",
    "new_tuple = tuple + (4,)\n",
    "print(new_tuple)\n",
    "print(type(tuple))"
   ]
  },
  {
   "cell_type": "markdown",
   "id": "a262a94e",
   "metadata": {},
   "source": [
    "#### 4.) Get the 4th Element from the Last Element of a Tuple"
   ]
  },
  {
   "cell_type": "code",
   "execution_count": 44,
   "id": "8e7e9346",
   "metadata": {},
   "outputs": [
    {
     "name": "stdout",
     "output_type": "stream",
     "text": [
      "Hello\n",
      "<class 'tuple'>\n"
     ]
    }
   ],
   "source": [
    "tuple = (1, \"Hello\", 3.14, True,'Sabudh Foundation')\n",
    "print(tuple[-4])\n",
    "print(type(tuple))"
   ]
  },
  {
   "cell_type": "markdown",
   "id": "1b8dd925",
   "metadata": {},
   "source": [
    "#### 5.)  Convert a Tuple to a Dictionary"
   ]
  },
  {
   "cell_type": "code",
   "execution_count": 83,
   "id": "bca57e1e",
   "metadata": {},
   "outputs": [
    {
     "name": "stdout",
     "output_type": "stream",
     "text": [
      "(('name', 'harsh'), ('age', 22))\n",
      "<class 'tuple'>\n"
     ]
    }
   ],
   "source": [
    "tuple = (('name','harsh'),('age',22))\n",
    "print(dict)\n",
    "print(type(dict))"
   ]
  },
  {
   "cell_type": "markdown",
   "id": "f8a69c9b",
   "metadata": {},
   "source": [
    "# Task 3. DICTIONARY:"
   ]
  },
  {
   "cell_type": "markdown",
   "id": "8245ec32",
   "metadata": {},
   "source": [
    "#### 1. Sort a Dictionary by Value (Ascending and Descending)"
   ]
  },
  {
   "cell_type": "code",
   "execution_count": 65,
   "id": "b2fa7740",
   "metadata": {},
   "outputs": [
    {
     "name": "stdout",
     "output_type": "stream",
     "text": [
      "Ascending Order: [('b', 1), ('c', 2), ('a', 3)]\n",
      "Descending Order: [('a', 3), ('c', 2), ('b', 1)]\n"
     ]
    }
   ],
   "source": [
    "# Sample dictionary\n",
    "my_dict = {'a': 3, 'b': 1, 'c': 2}\n",
    "\n",
    "# Sort in ascending order by value\n",
    "asc = sorted(my_dict.items(), key=lambda item: item[1])\n",
    "# Sort in descending order by value\n",
    "desc = sorted(my_dict.items(), key=lambda item: item[1], reverse=True)\n",
    "\n",
    "# Print the sorted dictionaries\n",
    "print(\"Ascending Order:\", asc)\n",
    "print(\"Descending Order:\", desc)\n",
    "\n"
   ]
  },
  {
   "cell_type": "markdown",
   "id": "7b749799",
   "metadata": {},
   "source": [
    "#### 2. Iterate Over Dictionaries Using for Loops"
   ]
  },
  {
   "cell_type": "code",
   "execution_count": 56,
   "id": "28be81cb",
   "metadata": {},
   "outputs": [
    {
     "name": "stdout",
     "output_type": "stream",
     "text": [
      "name: Harsh\n",
      "age: 22\n",
      "location: Ludhiana\n"
     ]
    }
   ],
   "source": [
    "# Sample dictionary\n",
    "my_dict = {'name': 'Harsh', 'age': 22, 'location': 'Ludhiana'}\n",
    "\n",
    "# Iterating over keys and values\n",
    "for key, value in my_dict.items():\n",
    "    print(f\"{key}: {value}\")\n"
   ]
  },
  {
   "cell_type": "markdown",
   "id": "bc4fd285",
   "metadata": {},
   "source": [
    "#### 3. Merge Two Python Dictionaries"
   ]
  },
  {
   "cell_type": "code",
   "execution_count": 57,
   "id": "8e0abe69",
   "metadata": {},
   "outputs": [
    {
     "name": "stdout",
     "output_type": "stream",
     "text": [
      "Merged Dictionary: {'a': 1, 'b': 2, 'c': 3, 'd': 4}\n"
     ]
    }
   ],
   "source": [
    "dict1 = {'a': 1, 'b': 2}\n",
    "dict2 = {'c': 3, 'd': 4}\n",
    "\n",
    "# Merging dictionaries\n",
    "merged_dict = {**dict1, **dict2}\n",
    "\n",
    "print(\"Merged Dictionary:\", merged_dict)\n"
   ]
  },
  {
   "cell_type": "markdown",
   "id": "1e9109e9",
   "metadata": {},
   "source": [
    "#### 4. Sum All the Items in a Dictionary"
   ]
  },
  {
   "cell_type": "code",
   "execution_count": 59,
   "id": "62c82336",
   "metadata": {},
   "outputs": [
    {
     "name": "stdout",
     "output_type": "stream",
     "text": [
      "Total Sum: 600\n"
     ]
    }
   ],
   "source": [
    "sample_dict = {'a': 100, 'b': 200, 'c': 300}\n",
    "\n",
    "# Summing all the values\n",
    "total_sum = sum(sample_dict.values())\n",
    "\n",
    "print(\"Total Sum:\", total_sum)\n"
   ]
  },
  {
   "cell_type": "markdown",
   "id": "c001916b",
   "metadata": {},
   "source": [
    "#### 5. Write a Python program to multiply all the items in a dictionary."
   ]
  },
  {
   "cell_type": "code",
   "execution_count": 60,
   "id": "f418e464",
   "metadata": {},
   "outputs": [
    {
     "name": "stdout",
     "output_type": "stream",
     "text": [
      "Total Product: 6000000\n"
     ]
    }
   ],
   "source": [
    "sample_dict = {'a': 100, 'b': 200, 'c': 300}\n",
    "\n",
    "# Multiplying all the values\n",
    "total_product = 1\n",
    "for value in sample_dict.values():\n",
    "    total_product *= value\n",
    "\n",
    "print(\"Total Product:\", total_product)\n"
   ]
  },
  {
   "cell_type": "markdown",
   "id": "0b055e3a",
   "metadata": {},
   "source": [
    "#### 6. Write a Python program to sort a given dictionary by key."
   ]
  },
  {
   "cell_type": "code",
   "execution_count": 64,
   "id": "383f75be",
   "metadata": {},
   "outputs": [
    {
     "name": "stdout",
     "output_type": "stream",
     "text": [
      "Sorted Dictionary by Key: [('a', 1), ('b', 2), ('c', 3)]\n"
     ]
    }
   ],
   "source": [
    "# Sample dictionary\n",
    "sample_dict = {'b': 2, 'a': 1, 'c': 3}\n",
    "\n",
    "# Sorting the dictionary by key\n",
    "sorted_dict = sorted(sample_dict.items())\n",
    "\n",
    "print(\"Sorted Dictionary by Key:\", sorted_dict)\n",
    "\n"
   ]
  },
  {
   "cell_type": "markdown",
   "id": "70784f8c",
   "metadata": {},
   "source": [
    "#### 7. Write a Python program to remove duplicates from the dictionary."
   ]
  },
  {
   "cell_type": "code",
   "execution_count": 66,
   "id": "e99c3761",
   "metadata": {},
   "outputs": [
    {
     "name": "stdout",
     "output_type": "stream",
     "text": [
      "Dictionary After Removing Duplicates: {'a': 1, 'b': 2}\n"
     ]
    }
   ],
   "source": [
    "# Sample dictionary with duplicates\n",
    "sample_dict = {'a': 1, 'b': 2, 'c': 1, 'd': 2}\n",
    "\n",
    "# Removing duplicates\n",
    "seen_values = set()\n",
    "unique_dict = {}\n",
    "\n",
    "for key, value in sample_dict.items():\n",
    "    if value not in seen_values:\n",
    "        unique_dict[key] = value\n",
    "        seen_values.add(value)\n",
    "\n",
    "print(\"Dictionary :\", unique_dict)\n"
   ]
  },
  {
   "cell_type": "markdown",
   "id": "9c4d56ef",
   "metadata": {},
   "source": [
    "# Task 4. Numpy"
   ]
  },
  {
   "cell_type": "markdown",
   "id": "c7c606eb",
   "metadata": {},
   "source": [
    "## 1: Numpy array creation and manipulation"
   ]
  },
  {
   "cell_type": "code",
   "execution_count": 70,
   "id": "357c0b69",
   "metadata": {},
   "outputs": [
    {
     "name": "stdout",
     "output_type": "stream",
     "text": [
      "Array 'a' [30  4 20 53 64 39 92 90 78 32]\n",
      "Array 'b'\n",
      "[[ -4   8  -7   0]\n",
      " [-10  -7  -2   3]\n",
      " [  9   2 -10   2]]\n",
      "Array 'b_flat' [ -4   8  -7   0 -10  -7  -2   3   9   2 -10   2]\n",
      "Array 'a_copy' [-1  4 20 53 64 39 92 90 78 32]\n",
      "Array 'c' [30 20 64 92 78]\n"
     ]
    }
   ],
   "source": [
    "\n",
    "# 1. Create a 1D Numpy array 'a' containing 10 random integers between 0 and 99\n",
    "a = np.random.randint(0, 100, size=10)\n",
    "\n",
    "print(\"Array 'a'\", a)\n",
    "\n",
    "# 2. Create a 2D Numpy array 'b' of shape (3, 4) containing random integers between -10 and 10\n",
    "b = np.random.randint(-10, 11, size=(3, 4))\n",
    "\n",
    "print(\"Array 'b'\")\n",
    "print(b)\n",
    "\n",
    "# 3. Reshape 'b' into a 1D Numpy array 'b_flat'\n",
    "b_flat = b.flatten()\n",
    "\n",
    "print(\"Array 'b_flat'\", b_flat)\n",
    "\n",
    "# 4. Create a copy of 'a' called 'a_copy', and set the first element of 'a_copy' to -1\n",
    "a_copy = a.copy()\n",
    "a_copy[0] = -1\n",
    "\n",
    "print(\"Array 'a_copy'\", a_copy)\n",
    "\n",
    "# 5. Create a 1D Numpy array 'c' containing every second element of 'a'\n",
    "c = a[::2]\n",
    "\n",
    "print(\"Array 'c'\", c)\n"
   ]
  },
  {
   "cell_type": "markdown",
   "id": "6bddc354",
   "metadata": {},
   "source": [
    "## 2: Numpy array indexing and slicing"
   ]
  },
  {
   "cell_type": "code",
   "execution_count": 69,
   "id": "51f8d760",
   "metadata": {},
   "outputs": [
    {
     "name": "stdout",
     "output_type": "stream",
     "text": [
      "Third element of 'a'  95\n",
      "Last element of 'b'  9\n",
      "First two rows and last two columns of 'b':\n",
      "[[-7  7]\n",
      " [ 7  2]]\n",
      "Second row of 'b'  [-1 -7  7  2]\n",
      "First column of 'b'  [ 2 -1 -6]\n"
     ]
    }
   ],
   "source": [
    "\n",
    "a = np.random.randint(0, 100, size=10)\n",
    "b = np.random.randint(-10, 11, size=(3, 4))\n",
    "\n",
    "# Print the third element of 'a'\n",
    "print(\"Third element of 'a' \", a[2])\n",
    "\n",
    "# Print the last element of 'b'\n",
    "print(\"Last element of 'b' \", b[-1, -1])\n",
    "\n",
    "# Print the first two rows and last two columns of 'b'\n",
    "print(\"First two rows and last two columns of 'b':\")\n",
    "print(b[:2, -2:]) # :2 for starting -2: for last here : use to select all\n",
    "\n",
    "# Assign the second row of 'b' to a variable called 'b_row'\n",
    "b_row = b[1, :]\n",
    "print(\"Second row of 'b' \", b_row)\n",
    "\n",
    "# Assign the first column of 'b' to a variable called 'b_col'\n",
    "b_col = b[:, 0]\n",
    "print(\"First column of 'b' \", b_col)\n"
   ]
  },
  {
   "cell_type": "markdown",
   "id": "f1c0b604",
   "metadata": {},
   "source": [
    "##  3: Numpy array operations"
   ]
  },
  {
   "cell_type": "code",
   "execution_count": 76,
   "id": "330d553e",
   "metadata": {},
   "outputs": [
    {
     "name": "stdout",
     "output_type": "stream",
     "text": [
      "Array 'd' [ 1  2  3  4  5  6  7  8  9 10]\n",
      "Array 'e' (a + d): [31  6 23 57 69 45 99 98 87 42]\n",
      "Array 'b_double':\n",
      "[[ -8  16 -14   0]\n",
      " [-20 -14  -4   6]\n",
      " [ 18   4 -20   4]]\n",
      "Dot product of 'b' and 'b_double' 960\n"
     ]
    }
   ],
   "source": [
    "# 1. Create a 1D Numpy array 'd' containing the integers from 1 to 10\n",
    "d = np.arange(1, 11)\n",
    "print(\"Array 'd'\", d)\n",
    "\n",
    "# 2. Add 'a' and 'd' element-wise to create a new Numpy array 'e'\n",
    "e = a + d[:10]  \n",
    "print(\"Array 'e' (a + d):\", e)\n",
    "\n",
    "# 3. Multiply 'b' by 2 to create a new Numpy array 'b_double'\n",
    "b_double = b * 2\n",
    "\n",
    "print(\"Array 'b_double':\")\n",
    "print(b_double)\n",
    "\n",
    "# 4. Calculate the dot product of 'b' and 'b_double' to create a new Numpy array 'f'\n",
    "# For dot product, flatten both arrays to ensure the operation is valid\n",
    "b_flat = b.flatten()\n",
    "b_double_flat = b_double.flatten()\n",
    "f = np.dot(b_flat, b_double_flat)\n",
    "\n",
    "print(\"Dot product of 'b' and 'b_double'\", f)"
   ]
  },
  {
   "cell_type": "code",
   "execution_count": null,
   "id": "b1b31998",
   "metadata": {},
   "outputs": [],
   "source": []
  }
 ],
 "metadata": {
  "kernelspec": {
   "display_name": "Python 3 (ipykernel)",
   "language": "python",
   "name": "python3"
  },
  "language_info": {
   "codemirror_mode": {
    "name": "ipython",
    "version": 3
   },
   "file_extension": ".py",
   "mimetype": "text/x-python",
   "name": "python",
   "nbconvert_exporter": "python",
   "pygments_lexer": "ipython3",
   "version": "3.11.5"
  }
 },
 "nbformat": 4,
 "nbformat_minor": 5
}
